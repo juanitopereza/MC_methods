{
 "cells": [
  {
   "cell_type": "code",
   "execution_count": 1,
   "metadata": {},
   "outputs": [
    {
     "name": "stdout",
     "output_type": "stream",
     "text": [
      "Populating the interactive namespace from numpy and matplotlib\n"
     ]
    }
   ],
   "source": [
    "import numpy as np\n",
    "import matplotlib.pyplot as plt\n",
    "%pylab inline"
   ]
  },
  {
   "cell_type": "code",
   "execution_count": 18,
   "metadata": {
    "collapsed": true
   },
   "outputs": [],
   "source": [
    "def funcion(a,b,c,d,e,f,g,h,i,j):\n",
    "    return (a+b+c+d+e+f+g+h+i+j)**3"
   ]
  },
  {
   "cell_type": "code",
   "execution_count": 58,
   "metadata": {
    "collapsed": true
   },
   "outputs": [],
   "source": [
    "def Integra_10D(fun, lim1, lim2, NPoints, intentos):\n",
    "    resultados = []\n",
    "    for i in xrange(intentos):\n",
    "        a = np.random.uniform(lim1,lim2,NPoints)\n",
    "        b = np.random.uniform(lim1,lim2,NPoints)\n",
    "        c = np.random.uniform(lim1,lim2,NPoints)\n",
    "        d = np.random.uniform(lim1,lim2,NPoints)\n",
    "        e = np.random.uniform(lim1,lim2,NPoints)\n",
    "        f = np.random.uniform(lim1,lim2,NPoints)\n",
    "        g = np.random.uniform(lim1,lim2,NPoints)\n",
    "        h = np.random.uniform(lim1,lim2,NPoints)\n",
    "        i = np.random.uniform(lim1,lim2,NPoints)\n",
    "        j = np.random.uniform(lim1,lim2,NPoints)\n",
    "        resultados.append((lim2-lim1)**10/NPoints*sum(fun(a,b,c,d,e,f,g,h,i,j)))\n",
    "    return mean(resultados)"
   ]
  },
  {
   "cell_type": "code",
   "execution_count": 134,
   "metadata": {},
   "outputs": [
    {
     "name": "stdout",
     "output_type": "stream",
     "text": [
      "Valor de la integral con 10000 puntos y 20 intentos = 1124465.76448\n"
     ]
    }
   ],
   "source": [
    "N = 10000\n",
    "intentos = 20\n",
    "res = Integra_10D(funcion,0.0,2.0,N,intentos)\n",
    "print ('Valor de la integral con {} puntos y {} intentos = {}'.format(N,intentos,res))"
   ]
  },
  {
   "cell_type": "code",
   "execution_count": 122,
   "metadata": {},
   "outputs": [],
   "source": [
    "eNes= []\n",
    "valores = []\n",
    "for i in xrange(1,14):\n",
    "    n = 2**i\n",
    "    valores.append(Integra_10D(funcion, 0.0, 2.0, n, intentos))\n",
    "    eNes.append(n)"
   ]
  },
  {
   "cell_type": "code",
   "execution_count": 128,
   "metadata": {},
   "outputs": [
    {
     "data": {
      "image/png": "[encoded data removed]",
      "text/plain": [
       "<matplotlib.figure.Figure at 0x7fb954757590>"
      ]
     },
     "metadata": {},
     "output_type": "display_data"
    }
   ],
   "source": [
    "plt.plot(eNes, valores)\n",
    "plt.title(u'Valor integral vs. Número de puntos')\n",
    "plt.xlabel('N')\n",
    "plt.ylabel('Valor I')\n",
    "plt.savefig('num_integral.pdf')\n",
    "plt.close()"
   ]
  },
  {
   "cell_type": "code",
   "execution_count": 131,
   "metadata": {
    "collapsed": true
   },
   "outputs": [],
   "source": [
    "ValorAnalitico = 1126400.0\n",
    "errores = 100*abs(ValorAnalitico - np.array(valores))/ValorAnalitico\n",
    "x = 1/sqrt(np.array(eNes))"
   ]
  },
  {
   "cell_type": "code",
   "execution_count": 135,
   "metadata": {},
   "outputs": [],
   "source": [
    "plt.plot(x, errores)\n",
    "plt.title('Errores porcentuales vs. $1/\\sqrt{N}$')\n",
    "plt.xlabel('$1/\\sqrt{N}$')\n",
    "plt.ylabel('Error %')\n",
    "plt.savefig('err_integral.pdf')\n",
    "plt.close()"
   ]
  },
  {
   "cell_type": "code",
   "execution_count": 137,
   "metadata": {},
   "outputs": [
    {
     "data": {
      "text/plain": [
       "1073741824000"
      ]
     },
     "execution_count": 137,
     "metadata": {},
     "output_type": "execute_result"
    }
   ],
   "source": [
    "10240**3"
   ]
  },
  {
   "cell_type": "code",
   "execution_count": null,
   "metadata": {
    "collapsed": true
   },
   "outputs": [],
   "source": []
  }
 ],
 "metadata": {
  "kernelspec": {
   "display_name": "Python 2",
   "language": "python",
   "name": "python2"
  },
  "language_info": {
   "codemirror_mode": {
    "name": "ipython",
    "version": 2
   },
   "file_extension": ".py",
   "mimetype": "text/x-python",
   "name": "python",
   "nbconvert_exporter": "python",
   "pygments_lexer": "ipython2",
   "version": "2.7.13"
  }
 },
 "nbformat": 4,
 "nbformat_minor": 2
}

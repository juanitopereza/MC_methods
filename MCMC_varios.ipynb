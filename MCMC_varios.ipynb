{
 "cells": [
  {
   "cell_type": "code",
   "execution_count": 1,
   "metadata": {
    "collapsed": true
   },
   "outputs": [],
   "source": [
    "import numpy as np\n",
    "import matplotlib.pyplot as plt"
   ]
  },
  {
   "cell_type": "markdown",
   "metadata": {},
   "source": [
    "# Ejericicio 1"
   ]
  },
  {
   "cell_type": "markdown",
   "metadata": {},
   "source": [
    "#### Se adiciona el cálculo del rms dev al código"
   ]
  },
  {
   "cell_type": "code",
   "execution_count": 2,
   "metadata": {
    "collapsed": true
   },
   "outputs": [],
   "source": [
    "def direct_pi(N):\n",
    "    n_hits = 0\n",
    "    for i in range(N):\n",
    "        x, y = np.random.uniform(-1.0, 1.0), np.random.uniform(-1.0, 1.0)\n",
    "        if x ** 2 + y ** 2 < 1.0:\n",
    "            n_hits += 1\n",
    "    return n_hits\n",
    "\n",
    "n_runs = 500\n",
    "n_trials = [2**4, 2**5, 2**6, 2**7, 2**8, 2**9, 2**10, 2**11, 2**12]\n",
    "rms = []\n",
    "for thing in n_trials:\n",
    "    pi_est = np.zeros(n_runs)\n",
    "    for i in range(n_runs):\n",
    "        pi_est[i] = 4.0 * direct_pi(thing) / float(thing)\n",
    "    rms.append(np.mean(np.sqrt((pi_est - np.pi)**2)))"
   ]
  },
  {
   "cell_type": "markdown",
   "metadata": {},
   "source": [
    "#### Grafica del rms en funcion de n_trials. Escala log log"
   ]
  },
  {
   "cell_type": "code",
   "execution_count": 3,
   "metadata": {},
   "outputs": [
    {
     "data": {
      "image/png": "[encoded data removed]",
      "text/plain": [
       "<Figure size 432x288 with 1 Axes>"
      ]
     },
     "metadata": {
      "needs_background": "light"
     },
     "output_type": "display_data"
    }
   ],
   "source": [
    "fig = plt.figure()\n",
    "\n",
    "ax = fig.add_subplot(111)\n",
    "ax.scatter(n_trials, rms)\n",
    "ax.plot(n_trials, rms, '--')\n",
    "ax.set_yscale('log')\n",
    "ax.set_xscale('log')"
   ]
  },
  {
   "cell_type": "markdown",
   "metadata": {},
   "source": [
    "# Ejercicio 2"
   ]
  },
  {
   "cell_type": "markdown",
   "metadata": {},
   "source": [
    "#### Markov cahain. reinicia en el borde"
   ]
  },
  {
   "cell_type": "code",
   "execution_count": 4,
   "metadata": {
    "collapsed": true
   },
   "outputs": [],
   "source": [
    "def MCpi_1(N,delta):\n",
    "    count = 0\n",
    "    tries = N\n",
    "    puntos = np.zeros((2,N))\n",
    "    puntos[:,0] = np.random.uniform(-1.0,1.0,size=2)\n",
    "    for i in range (1,N):\n",
    "        prop_x = puntos[0,i-1] + delta*np.random.uniform(-1.0, 1.0)\n",
    "        prop_y = puntos[1,i-1] + delta*np.random.uniform(-1.0, 1.0)\n",
    "        if abs(prop_x) <= 1.0 and abs(prop_y) <= 1.0:\n",
    "            puntos[0,i] = prop_x\n",
    "            puntos[1,i] = prop_y\n",
    "            if (puntos[0,i]**2 + puntos[1,i]**2 <= 1.0): count += 1\n",
    "        else:\n",
    "            puntos[:,i] = np.random.uniform(-1.0,1.0,size=2)\n",
    "            tries -= 1\n",
    "    return 4.0*count/float(tries)"
   ]
  },
  {
   "cell_type": "markdown",
   "metadata": {},
   "source": [
    "#### Markov cahain. se queda donde está en el borde"
   ]
  },
  {
   "cell_type": "code",
   "execution_count": 51,
   "metadata": {
    "collapsed": true
   },
   "outputs": [],
   "source": [
    "def MCpi_2(N,delta):\n",
    "    count = 0\n",
    "    puntos = np.zeros((2,N))\n",
    "    puntos[:,0] = np.random.uniform(-1.0,1.0,size=2)\n",
    "    for i in range (1,N):\n",
    "        prop_x = puntos[0,i-1] + delta*np.random.uniform(-1.0, 1.0)\n",
    "        prop_y = puntos[1,i-1] + delta*np.random.uniform(-1.0, 1.0)\n",
    "        if abs(prop_x) <= 1.0 and abs(prop_y) <= 1.0:\n",
    "            puntos[0,i] = prop_x\n",
    "            puntos[1,i] = prop_y\n",
    "            if (puntos[0,i]**2 + puntos[1,i]**2 <= 1.0): count += 1\n",
    "        else:\n",
    "            puntos[:,i] = puntos[:,i-1]\n",
    "            if (puntos[0,i]**2 + puntos[1,i]**2 <= 1.0): count += 1\n",
    "    return 4.0*count/float(N)"
   ]
  },
  {
   "cell_type": "markdown",
   "metadata": {},
   "source": [
    "#### comparación valores de $\\pi$"
   ]
  },
  {
   "cell_type": "code",
   "execution_count": 59,
   "metadata": {},
   "outputs": [
    {
     "name": "stdout",
     "output_type": "stream",
     "text": [
      "3.5243243243243243 3.04\n"
     ]
    }
   ],
   "source": [
    "N = 200\n",
    "delta = 0.4\n",
    "pi_1 = MCpi_1(N,delta)\n",
    "pi_2 = MCpi_2(N,delta)\n",
    "print(pi_1, pi_2)"
   ]
  },
  {
   "cell_type": "markdown",
   "metadata": {},
   "source": [
    "#### rms vs. n_trials para diferentes $\\delta$'s. 500 intentos para cada n_trial"
   ]
  },
  {
   "cell_type": "code",
   "execution_count": 58,
   "metadata": {},
   "outputs": [
    {
     "data": {
      "image/png": "[encoded data removed]",
      "text/plain": [
       "<Figure size 504x504 with 1 Axes>"
      ]
     },
     "metadata": {
      "needs_background": "light"
     },
     "output_type": "display_data"
    }
   ],
   "source": [
    "deltas = [0.062, 0.125, 0.25, 0.5, 1.0, 2.0, 4.0]\n",
    "\n",
    "fig2 = plt.figure(figsize=(7,7))\n",
    "ax = fig2.add_subplot(111)\n",
    "\n",
    "for delta in deltas:\n",
    "    rms = []\n",
    "    for number in n_trials:\n",
    "        pi_est = np.zeros(n_runs)\n",
    "        for i in range(n_runs):\n",
    "            pi_est[i] = MCpi_2(number,delta)\n",
    "        \n",
    "        rms.append(np.sqrt(np.mean((pi_est - np.pi)**2)))\n",
    "    ax.scatter(n_trials, rms, label='$\\delta\\ =\\ {}$'.format(delta))\n",
    "    ax.set_yscale('log')\n",
    "    ax.set_xscale('log')\n",
    "ax.legend()\n",
    "plt.show()\n"
   ]
  },
  {
   "cell_type": "markdown",
   "metadata": {
    "collapsed": true
   },
   "source": [
    "# Ejercicio 3"
   ]
  },
  {
   "cell_type": "markdown",
   "metadata": {},
   "source": [
    "#### Aquí no estoy seguro que la bolita se mueva con las probabilidades que ponen en las reglas, pero al parecer si tiende a una dist. uniforme"
   ]
  },
  {
   "cell_type": "code",
   "execution_count": 178,
   "metadata": {
    "collapsed": true
   },
   "outputs": [],
   "source": [
    "def bolita(T):\n",
    "    grid = np.zeros((3,3))\n",
    "    fil, col = np.random.randint(0,3), np.random.randint(0,3)\n",
    "    grid[fil,col] += 1\n",
    "    t=0\n",
    "    while t < T:\n",
    "        n_fil = fil + np.random.randint(-1,2)\n",
    "        n_col = col + np.random.randint(-1,2)\n",
    "        if (0 <= n_fil <= 2):\n",
    "            if (0 <= n_col <= 2):\n",
    "                fil = n_fil\n",
    "                col = n_col\n",
    "        grid[fil,col] += 1\n",
    "        t+= 1\n",
    "    return grid\n",
    "    "
   ]
  },
  {
   "cell_type": "markdown",
   "metadata": {},
   "source": [
    "#### Histogramas de freq absoluta de la pos de la bolita. cada casilla del tablero corresponde a un número del 1 al 9. Y de una vez calculamos la divergencia Kullback–Leibler"
   ]
  },
  {
   "cell_type": "code",
   "execution_count": 197,
   "metadata": {},
   "outputs": [
    {
     "name": "stderr",
     "output_type": "stream",
     "text": [
      "/home/juanito/.local/lib/python3.5/site-packages/ipykernel_launcher.py:10: RuntimeWarning: divide by zero encountered in log\n",
      "  # Remove the CWD from sys.path while we load stuff.\n",
      "/home/juanito/.local/lib/python3.5/site-packages/ipykernel_launcher.py:10: RuntimeWarning: invalid value encountered in multiply\n",
      "  # Remove the CWD from sys.path while we load stuff.\n"
     ]
    },
    {
     "data": {
      "image/png": "[encoded data removed]",
      "text/plain": [
       "<Figure size 1080x504 with 6 Axes>"
      ]
     },
     "metadata": {
      "needs_background": "light"
     },
     "output_type": "display_data"
    }
   ],
   "source": [
    "tes = [1000, 500, 200, 100, 50, 10]\n",
    "DKL = []\n",
    "pos = np.arange(1,10)\n",
    "fig = plt.figure(figsize=(15,7))\n",
    "i = 1\n",
    "for t in tes:\n",
    "    rrr = bolita(t)\n",
    "    aaa = rrr.flatten()\n",
    "    dist = aaa/t\n",
    "    DKL.append(np.sum(dist*np.log(dist/(1./9.))))\n",
    "    ax = fig.add_subplot(2,3,i)\n",
    "    ax.bar(pos,aaa)\n",
    "    ax.set_title(\"t= {}\".format(t))\n",
    "    i += 1\n"
   ]
  },
  {
   "cell_type": "markdown",
   "metadata": {},
   "source": [
    "#### grafica de la divergencia Kullback–Leibler vs. n_pasos"
   ]
  },
  {
   "cell_type": "code",
   "execution_count": 198,
   "metadata": {},
   "outputs": [
    {
     "data": {
      "text/plain": [
       "[<matplotlib.lines.Line2D at 0x7f585c600908>]"
      ]
     },
     "execution_count": 198,
     "metadata": {},
     "output_type": "execute_result"
    },
    {
     "data": {
      "image/png": "[encoded data removed]",
      "text/plain": [
       "<Figure size 432x288 with 1 Axes>"
      ]
     },
     "metadata": {
      "needs_background": "light"
     },
     "output_type": "display_data"
    }
   ],
   "source": [
    "plt.plot(tes, DKL)"
   ]
  },
  {
   "cell_type": "code",
   "execution_count": null,
   "metadata": {
    "collapsed": true
   },
   "outputs": [],
   "source": []
  }
 ],
 "metadata": {
  "kernelspec": {
   "display_name": "Python 3",
   "language": "python",
   "name": "python3"
  },
  "language_info": {
   "codemirror_mode": {
    "name": "ipython",
    "version": 2
   },
   "file_extension": ".py",
   "mimetype": "text/x-python",
   "name": "python",
   "nbconvert_exporter": "python",
   "pygments_lexer": "ipython2",
   "version": "2.7.13"
  }
 },
 "nbformat": 4,
 "nbformat_minor": 2
}
